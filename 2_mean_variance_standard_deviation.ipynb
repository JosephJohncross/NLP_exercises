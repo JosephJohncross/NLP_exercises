{
 "cells": [
  {
   "cell_type": "code",
   "execution_count": 1,
   "metadata": {},
   "outputs": [
    {
     "name": "stdout",
     "output_type": "stream",
     "text": [
      "Mean sentence length 5.4\n",
      "Variance of sentence length 3.44\n",
      "Standard deviation of sentence length 1.8547236990991407\n"
     ]
    }
   ],
   "source": [
    "import math\n",
    "\n",
    "corpus =[\n",
    "    \"The cat on the mat.\",\n",
    "    \"the dog is happy.\",\n",
    "    \"The bird flew away.\",\n",
    "    \"it was a beautiful day.\",\n",
    "    \"The sun was shining and the birds were singing.\"\n",
    "]\n",
    "\n",
    "sentence_length = [len(sentence.split()) for sentence in corpus]\n",
    "\n",
    "mean_length = sum(sentence_length) / len(sentence_length)\n",
    "variance_length = sum((length - mean_length)**2 for length in sentence_length) / len(sentence_length)\n",
    "std_dev_length = math.sqrt(variance_length)\n",
    "\n",
    "print(\"Mean sentence length\", mean_length)\n",
    "print(\"Variance of sentence length\", variance_length)\n",
    "print(\"Standard deviation of sentence length\", std_dev_length)"
   ]
  }
 ],
 "metadata": {
  "kernelspec": {
   "display_name": "env",
   "language": "python",
   "name": "python3"
  },
  "language_info": {
   "codemirror_mode": {
    "name": "ipython",
    "version": 3
   },
   "file_extension": ".py",
   "mimetype": "text/x-python",
   "name": "python",
   "nbconvert_exporter": "python",
   "pygments_lexer": "ipython3",
   "version": "3.12.7"
  }
 },
 "nbformat": 4,
 "nbformat_minor": 2
}
