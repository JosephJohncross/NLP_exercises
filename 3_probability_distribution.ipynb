{
 "cells": [
  {
   "cell_type": "markdown",
   "metadata": {},
   "source": [
    "# Types of probability distribution\n",
    "\n",
    "1. Binomial Distribution\n",
    "2. Poisson Distributiion\n",
    "3. Normal distribution"
   ]
  },
  {
   "cell_type": "markdown",
   "metadata": {},
   "source": [
    "# 1. Binomial Distribution\n",
    "\n",
    "It is used to model the probability of a fixed number of successess in a fixed number of independent trials (each trial has only two outcomes: success or failure)\n",
    "Useful for modelling binary events."
   ]
  }
 ],
 "metadata": {
  "language_info": {
   "name": "python"
  }
 },
 "nbformat": 4,
 "nbformat_minor": 2
}
